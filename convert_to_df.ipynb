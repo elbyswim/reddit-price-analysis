{
 "cells": [
  {
   "cell_type": "code",
   "execution_count": null,
   "metadata": {},
   "outputs": [],
   "source": [
    "import urllib.request \n",
    "import json\n",
    "from datetime import datetime\n",
    "from time import sleep\n",
    "import os\n",
    "import pickle\n",
    "\n",
    "import pandas as pd"
   ]
  },
  {
   "cell_type": "code",
   "execution_count": null,
   "metadata": {},
   "outputs": [],
   "source": [
    "def data_to_df(datatype):\n",
    "\n",
    "  # open 1 file to get list of keys\n",
    "  os.chdir(f'/content/Data/{datatype}')\n",
    "  with open(os.listdir(f'/content/Data/{datatype}')[0], 'r') as file:\n",
    "    data = file.read()\n",
    "\n",
    "  parsed = json.loads(json.loads(data))\n",
    "  keys_list = parsed['data'][0].keys()\n",
    "\n",
    "  # open each file and load into DF\n",
    "\n",
    "  df = pd.DataFrame(columns = keys_list)\n",
    "\n",
    "  for filename in os.listdir(f'/content/Data/{datatype}'):\n",
    "    with open(filename, 'r') as file:\n",
    "      data = file.read()\n",
    "      parsed = json.loads(json.loads(data))\n",
    "\n",
    "      df_row = pd.DataFrame(parsed['data'])\n",
    "\n",
    "      df = df.append(df_row)\n",
    "\n",
    "  return df"
   ]
  }
 ],
 "metadata": {
  "language_info": {
   "name": "python"
  },
  "orig_nbformat": 4
 },
 "nbformat": 4,
 "nbformat_minor": 2
}
