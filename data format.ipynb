{
 "nbformat": 4,
 "nbformat_minor": 0,
 "metadata": {
  "colab": {
   "name": "data format.ipynb",
   "provenance": []
  },
  "kernelspec": {
   "name": "python3",
   "display_name": "Python 3"
  },
  "language_info": {
   "name": "python"
  }
 },
 "cells": [
  {
   "cell_type": "code",
   "execution_count": 1,
   "metadata": {
    "colab": {
     "base_uri": "https://localhost:8080/"
    },
    "id": "2oL3gNJZ-a6H",
    "outputId": "966b5e20-43e2-4525-ef23-2a3fd380256f"
   },
   "outputs": [
    {
     "output_type": "stream",
     "name": "stdout",
     "text": [
      "Requirement already satisfied: pyspark in /usr/local/lib/python3.7/dist-packages (3.2.0)\n",
      "Requirement already satisfied: py4j==0.10.9.2 in /usr/local/lib/python3.7/dist-packages (from pyspark) (0.10.9.2)\n"
     ]
    }
   ],
   "source": [
    "!pip install pyspark"
   ]
  },
  {
   "cell_type": "code",
   "source": [
    "from pyspark.sql import SparkSession\n",
    "from pyspark.sql.types import StructType, StructField, StringType\n",
    "\n",
    "import json"
   ],
   "metadata": {
    "id": "82ivEahbW5Xb"
   },
   "execution_count": 2,
   "outputs": []
  },
  {
   "cell_type": "code",
   "source": [
    "DATA_FOLDER = '/content/drive/MyDrive/University/MDSAI/1 Fall 2021/CS 631/Final Project/Data/'\n",
    "\n",
    "spark = SparkSession.builder.getOrCreate()"
   ],
   "metadata": {
    "id": "JEYvxGwN-0Qq"
   },
   "execution_count": 3,
   "outputs": []
  },
  {
   "cell_type": "code",
   "source": [
    "posts_rdd = spark.sparkContext.textFile(DATA_FOLDER + 'Posts/*').flatMap(lambda s: json.loads(s)['data'])\n",
    "comments_rdd = spark.sparkContext.textFile(DATA_FOLDER + 'Comments/*').flatMap(lambda s: json.loads(s)['data'])"
   ],
   "metadata": {
    "id": "s-mUyDfvEMVf"
   },
   "execution_count": 4,
   "outputs": []
  },
  {
   "cell_type": "code",
   "source": [
    "posts_schema = StructType([StructField(field_name, StringType(), True) for field_name in posts_rdd.first()])\n",
    "comments_schema = StructType([StructField(field_name, StringType(), True) for field_name in comments_rdd.first()])"
   ],
   "metadata": {
    "id": "zGpZI1N9bi1I"
   },
   "execution_count": 5,
   "outputs": []
  },
  {
   "cell_type": "code",
   "source": [
    "posts_df = spark.createDataFrame(posts_rdd, schema = posts_schema)\n",
    "comments_df = spark.createDataFrame(comments_rdd, schema = comments_schema)\n",
    "posts_df.show()\n",
    "comments_df.show()"
   ],
   "metadata": {
    "colab": {
     "base_uri": "https://localhost:8080/"
    },
    "id": "HJC-mtbeV9Rp",
    "outputId": "4e45a405-b068-41f0-fe3f-e74eace80f86"
   },
   "execution_count": 6,
   "outputs": [
    {
     "output_type": "stream",
     "name": "stdout",
     "text": [
      "+-----------------+----------------------+-----------------+----------+------------+-----------+----------------+--------------------+------+------+-------+------+-----------+------------+-------+--------------------+------------+-----+------------------+--------------------+-------+--------+-----------+------------+--------------+---------+--------------------+--------------------+\n",
      "|           author|author_flair_css_class|author_flair_text|brand_safe|contest_mode|created_utc|          domain|           full_link|gilded|    id|is_self|locked|media_embed|num_comments|over_18|           permalink|retrieved_on|score|secure_media_embed|            selftext|spoiler|stickied|  subreddit|subreddit_id|suggested_sort|thumbnail|               title|                 url|\n",
      "+-----------------+----------------------+-----------------+----------+------------+-----------+----------------+--------------------+------+------+-------+------+-----------+------------+-------+--------------------+------------+-----+------------------+--------------------+-------+--------+-----------+------------+--------------+---------+--------------------+--------------------+\n",
      "|        [deleted]|                  null|             null|     false|       false| 1488649021|self.ULgeartrade|https://www.reddi...|     0|5xi10t|   true| false|         {}|           1|  false|/r/ULgeartrade/co...|  1492375561|    4|                {}|           [deleted]|  false|   false|ULgeartrade|    t5_3j2wz|          null|  default|[WTS] Hexamid Twi...|https://www.reddi...|\n",
      "|skol_vikings_skol|                  null|             null|     false|       false| 1488639670|self.ULgeartrade|https://www.reddi...|     0|5xh966|   true| false|         {}|           4|  false|/r/ULgeartrade/co...|  1492375173|    2|                {}|http://imgur.com/...|  false|   false|ULgeartrade|    t5_3j2wz|          null|     self|[WTS] [WTT] Therm...|https://www.reddi...|\n",
      "|         Butter52|                  null|             null|     false|       false| 1488608893|self.ULgeartrade|https://www.reddi...|     0|5xfn7t|   true| false|         {}|           0|  false|/r/ULgeartrade/co...|  1492374362|    1|                {}|Im broadening my ...|  false|   false|ULgeartrade|    t5_3j2wz|          null|     self|[WTB] 40-60L ligh...|https://www.reddi...|\n",
      "|       mattymeats|                  null|             null|     false|       false| 1488589309|self.ULgeartrade|https://www.reddi...|     0|5xeadt|   true| false|         {}|           0|  false|/r/ULgeartrade/co...|  1492373685|    2|                {}|Anyone out there ...|  false|   false|ULgeartrade|    t5_3j2wz|          null|     self|[WTB] LT3C 115cm ...|https://www.reddi...|\n",
      "|        Shozzking|                  null|             null|     false|       false| 1488515666|self.ULgeartrade|https://www.reddi...|     0|5x8df6|   true| false|         {}|           1|  false|/r/ULgeartrade/co...|  1492370714|   10|                {}|Im selling my HMG...|  false|   false|ULgeartrade|    t5_3j2wz|          null|     self|[WTS] HMG 2400 So...|https://www.reddi...|\n",
      "|        [deleted]|                  null|             null|     false|       false| 1488426164|self.ULgeartrade|https://www.reddi...|     0|5x0yce|   true| false|         {}|           1|  false|/r/ULgeartrade/co...|  1492367003|    1|                {}|           [deleted]|  false|   false|ULgeartrade|    t5_3j2wz|          null|  default|[WTB] HMG 2400 Me...|https://www.reddi...|\n",
      "|16tonsofredditsex|                  null|             null|     false|       false| 1488387239|self.ULgeartrade|https://www.reddi...|     0|5wx4eo|   true| false|         {}|           0|  false|/r/ULgeartrade/co...|  1492364418|    4|                {}|\"Big Sur Blue\" co...|  false|   false|ULgeartrade|    t5_3j2wz|          null|     self|[WTS] Patagonia R...|https://www.reddi...|\n",
      "|downstreamdangers|                  null|             null|     false|       false| 1488345221|self.ULgeartrade|https://www.reddi...|     0|5wtcdg|   true| false|         {}|           0|  false|/r/ULgeartrade/co...|  1489599418|    1|                {}|           [removed]|  false|   false|ULgeartrade|    t5_3j2wz|          null|  default|[WTS] North Face ...|https://www.reddi...|\n",
      "|      claptop4000|                  null|             null|     false|       false| 1488327923|self.ULgeartrade|https://www.reddi...|     0|5wrqsy|   true| false|         {}|           1|  false|/r/ULgeartrade/co...|  1489598631|    2|                {}|Very lightly used...|  false|   false|ULgeartrade|    t5_3j2wz|          null|     self|[WTS] Borah Gear ...|https://www.reddi...|\n",
      "|      claptop4000|                  null|             null|     false|       false| 1488327279|self.ULgeartrade|https://www.reddi...|     0|5wro23|   true| false|         {}|           0|  false|/r/ULgeartrade/co...|  1489598593|    1|                {}|           [removed]|  false|   false|ULgeartrade|    t5_3j2wz|          null|  default|Borah Gear 5.5' X...|https://www.reddi...|\n",
      "|   worldwidewbstr|                  null|             null|     false|       false| 1488260591|self.ULgeartrade|https://www.reddi...|     0|5wm9bk|   true| false|         {}|           2|  false|/r/ULgeartrade/co...|  1489595918|    2|                {}|I am traveling ab...|  false|   false|ULgeartrade|    t5_3j2wz|          null|     self|[WTS] BA Fly Cree...|https://www.reddi...|\n",
      "|       JeCroisQue|                  null|             null|     false|       false| 1488233362|self.ULgeartrade|https://www.reddi...|     0|5wjtd0|   true| false|         {}|           0|  false|/r/ULgeartrade/co...|  1489594710|    3|                {}|Simple, looking t...|  false|   false|ULgeartrade|    t5_3j2wz|          null|     self|[WTT] Big Agnes F...|https://www.reddi...|\n",
      "|        okplanets|                  null|             null|     false|       false| 1488141407|self.ULgeartrade|https://www.reddi...|     0|5wc98i|   true| false|         {}|           2|  false|/r/ULgeartrade/co...|  1489590973|    3|                {}|Used 10ish times....|  false|   false|ULgeartrade|    t5_3j2wz|          null|     self|[WTS] Zpacks Hexa...|https://www.reddi...|\n",
      "|         Butter52|                  null|             null|     false|       false| 1488124466|self.ULgeartrade|https://www.reddi...|     0|5waovv|   true| false|         {}|           0|  false|/r/ULgeartrade/co...|  1489590199|    3|                {}|To ship either to...|  false|   false|ULgeartrade|    t5_3j2wz|          null|     self|[WTB] Gossamergea...|https://www.reddi...|\n",
      "|          camawon|                  null|             null|     false|       false| 1488077879|self.ULgeartrade|https://www.reddi...|     0|5w82g3|   true| false|         {}|           1|  false|/r/ULgeartrade/co...|  1489588908|    7|                {}|ZPacks Arc Haul 6...|  false|   false|ULgeartrade|    t5_3j2wz|          null|     self|[WTS] ZPacks Arc ...|https://www.reddi...|\n",
      "|       seinfeld11|                  null|             null|     false|       false| 1488065485|self.ULgeartrade|https://www.reddi...|     0|5w73lu|   true| false|         {}|           3|  false|/r/ULgeartrade/co...|  1489588432|    2|                {}|Let a double rain...|  false|   false|ULgeartrade|    t5_3j2wz|          null|     self|[WTB] used 2 pers...|https://www.reddi...|\n",
      "|        [deleted]|                  null|             null|     false|       false| 1487996496|self.ULgeartrade|https://www.reddi...|     0|5w2b0s|   true| false|         {}|           2|  false|/r/ULgeartrade/co...|  1489586069|    6|                {}|           [deleted]|  false|   false|ULgeartrade|    t5_3j2wz|          null|  default|[WTS] *like new* ...|https://www.reddi...|\n",
      "|        [deleted]|                  null|             null|     false|       false| 1487986435|self.ULgeartrade|https://www.reddi...|     0|5w1k14|   true| false|         {}|           0|  false|/r/ULgeartrade/co...|  1489585692|    3|                {}|           [deleted]|  false|   false|ULgeartrade|    t5_3j2wz|          null|  default|[WTS] ULA Circuit...|https://www.reddi...|\n",
      "|        [deleted]|                  null|             null|     false|       false| 1487985153|self.ULgeartrade|https://www.reddi...|     0|5w1gel|   true| false|         {}|           0|  false|/r/ULgeartrade/co...|  1489585643|    1|                {}|           [removed]|  false|   false|ULgeartrade|    t5_3j2wz|          null|  default|[FS] ULA Circuit ...|https://www.reddi...|\n",
      "|skol_vikings_skol|                  null|             null|     false|       false| 1487895772|self.ULgeartrade|https://www.reddi...|     0|5vu95d|   true| false|         {}|          10|  false|/r/ULgeartrade/co...|  1489582096|   11|                {}|http://imgur.com/...|  false|   false|ULgeartrade|    t5_3j2wz|          null|     self|[WTS] Thermarest ...|https://www.reddi...|\n",
      "+-----------------+----------------------+-----------------+----------+------------+-----------+----------------+--------------------+------+------+-------+------+-----------+------------+-------+--------------------+------------+-----+------------------+--------------------+-------+--------+-----------+------------+--------------+---------+--------------------+--------------------+\n",
      "only showing top 20 rows\n",
      "\n",
      "+----------------+------------------+----------------------+-----------------+---------------+--------------------+----------------+-----------+-------------+------+-------+---------+----------+----------+-----------+------------+-----+--------+-----------+------------+\n",
      "|          author|author_created_utc|author_flair_css_class|author_flair_text|author_fullname|                body|controversiality|created_utc|distinguished|gilded|     id|  link_id|nest_level| parent_id|reply_delay|retrieved_on|score|stickied|  subreddit|subreddit_id|\n",
      "+----------------+------------------+----------------------+-----------------+---------------+--------------------+----------------+-----------+-------------+------+-------+---------+----------+----------+-----------+------------+-----+--------+-----------+------------+\n",
      "|    mittencamper|        1440444479|                  null|             null|       t2_pts54|We cannot force p...|               0| 1487893147|         null|     0|de4ui2g|t3_5v0pk6|         2|t1_de4towg|       1006|  1489092432|    1|   false|ULgeartrade|    t5_3j2wz|\n",
      "|   mountainvilla|        1450223357|                  null|             null|       t2_szeoc|I would probably ...|               0| 1487892141|         null|     0|de4towg|t3_5v0pk6|         1| t3_5v0pk6|     350723|  1489092042|    1|   false|ULgeartrade|    t5_3j2wz|\n",
      "|       lunarly78|        1461951403|                  null|             null|       t2_xk8cx|I agree, maybe ju...|               0| 1487872672|         null|     0|de4bh6h|t3_5v0pk6|      null|t1_ddyrq71|       null|  1489083164|    3|   false|ULgeartrade|    t5_3j2wz|\n",
      "|      mattymeats|        1463293444|                  null|             null|       t2_xxyb8|Valid points, but...|               0| 1487871900|         null|     0|de4aqmd|t3_5v0pk6|      null|t1_de49txq|        941|  1489082804|    3|   false|ULgeartrade|    t5_3j2wz|\n",
      "|          S-4711|              null|                  null|             null|           null|I think an issue ...|               0| 1487870959|         null|     0|de49txq|t3_5v0pk6|      null|t1_ddz8xe1|       null|  1489082355|    3|   false|ULgeartrade|    t5_3j2wz|\n",
      "|     Natural_Law|        1318869398|                  null|             null|       t2_626gf|Cool.  Just thoug...|               0| 1487712708|         null|     0|de1djt5|t3_5vcjnl|         3|t1_de1dhta|         59|  1489030310|    3|   false|ULgeartrade|    t5_3j2wz|\n",
      "|       [deleted]|              null|                  null|             null|           null|           [deleted]|               0| 1487712692|         null|     0|de1dj9r|t3_5vcjnl|         3|t1_de1dhta|         43|  1489030302|    1|   false|ULgeartrade|    t5_3j2wz|\n",
      "| throwawaypf2015|        1423500852|                  null|             null|       t2_l9bvu|i cowboy camp lik...|               0| 1487712649|         null|     0|de1dhta|t3_5vcjnl|         2|t1_de1d4zo|        365|  1489030283|    2|   false|ULgeartrade|    t5_3j2wz|\n",
      "|     Natural_Law|        1318869398|                  null|             null|       t2_626gf|Since this is lik...|               0| 1487712284|         null|     0|de1d4zo|t3_5vcjnl|         1| t3_5vcjnl|      16532|  1489030110|    3|   false|ULgeartrade|    t5_3j2wz|\n",
      "|        cavaleir|        1328462116|                  null|             null|       t2_6ug24|What size is the ...|               0| 1487704796|         null|     0|de160y6|t3_5vcjnl|         1| t3_5vcjnl|       9044|  1489026676|    2|   false|ULgeartrade|    t5_3j2wz|\n",
      "|        Vnilla20|        1485376694|                  null|             null|      t2_14rxre|I posted those gi...|               0| 1487615588|         null|     0|ddzim13|t3_5v0pk6|         2|t1_ddz99tv|      11457|  1488997826|    3|   false|ULgeartrade|    t5_3j2wz|\n",
      "|       Ant-honey|        1331912440|                  null|             null|       t2_76qua|IMO they are more...|               0| 1487604131|         null|     0|ddz99tv|t3_5v0pk6|         1| t3_5v0pk6|      62713|  1488993328|   10|   false|ULgeartrade|    t5_3j2wz|\n",
      "|psychojunglecat3|        1352055679|                  null|             null|       t2_9i2mz|This was sold on ...|               0| 1487604119|         null|     0|ddz99hg|t3_5ub0zq|         2|t1_ddz95t4|        142|  1488993324|    1|   false|ULgeartrade|    t5_3j2wz|\n",
      "|       MacDaddyT|        1346135629|                  null|             null|       t2_8t8yx|      Standing by...|               0| 1487603977|         null|     0|ddz95t4|t3_5ub0zq|         1| t3_5ub0zq|     403755|  1488993275|    1|   false|ULgeartrade|    t5_3j2wz|\n",
      "|      mattymeats|        1463293444|                  null|             null|       t2_xxyb8|Yeah I saw that p...|               0| 1487603650|         null|     0|ddz8xe1|t3_5v0pk6|         3|t1_ddz6eqt|       4003|  1488993163|    3|   false|ULgeartrade|    t5_3j2wz|\n",
      "|    mittencamper|        1440444479|                  null|             null|       t2_pts54|This topic comes ...|               0| 1487599647|         null|     0|ddz6eqt|t3_5v0pk6|         2|t1_ddyrq71|      34608|  1488991954|    1|   false|ULgeartrade|    t5_3j2wz|\n",
      "|      mattymeats|        1463293444|                  null|             null|       t2_xxyb8|I not sure how I ...|               0| 1487565039|         null|     0|ddyrq71|t3_5v0pk6|         1| t3_5v0pk6|      23621|  1488984890|    7|   false|ULgeartrade|    t5_3j2wz|\n",
      "|    mittencamper|        1440444479|                  null|             null|       t2_pts54|I believe this ou...|               0| 1487540132|         null|     0|ddya97n|t3_5uyzkw|         1| t3_5uyzkw|      18511|  1488976365|    1|   false|ULgeartrade|    t5_3j2wz|\n",
      "|      Aguykalami|        1328821830|                  null|             null|       t2_6vsae|                Sold|               0| 1487538175|         null|     0|ddy8u1c|t3_5uyzkw|         1| t3_5uyzkw|      16554|  1488975497|    1|   false|ULgeartrade|    t5_3j2wz|\n",
      "|      Aguykalami|        1328821830|                  null|             null|       t2_6vsae|              Always|               0| 1487528130|         null|     0|ddy1j57|t3_5uyzkw|         6|t1_ddy1hpf|         55|  1488971893|    1|   false|ULgeartrade|    t5_3j2wz|\n",
      "+----------------+------------------+----------------------+-----------------+---------------+--------------------+----------------+-----------+-------------+------+-------+---------+----------+----------+-----------+------------+-----+--------+-----------+------------+\n",
      "only showing top 20 rows\n",
      "\n"
     ]
    }
   ]
  }
 ]
}